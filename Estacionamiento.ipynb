{
 "cells": [
  {
   "cell_type": "code",
   "execution_count": null,
   "metadata": {},
   "outputs": [],
   "source": [
    "# Pasos previos: obtener credenciales en https://www.buenosaires.gob.ar/desarrollourbano/transporte/apitransporte\n",
    "# Toda la documentacion esta disponible en: https://www.buenosaires.gob.ar/desarrollourbano/transporte/apitransporte/api-doc"
   ]
  },
  {
   "cell_type": "code",
   "execution_count": 2,
   "metadata": {},
   "outputs": [],
   "source": [
    "#Importamos las librerias necesarias\n",
    "import pandas as pd\n",
    "import numpy as np\n",
    "import urllib.request\n",
    "import re\n",
    "import requests\n",
    "import json\n",
    "from pandas.io.json import json_normalize\n",
    "import geopandas as gpd\n",
    "from datetime import date"
   ]
  },
  {
   "cell_type": "code",
   "execution_count": 3,
   "metadata": {},
   "outputs": [],
   "source": [
    "# Completa con tus credenciales obtenidas de la API de Transporte:\n",
    "api_user = '   '\n",
    "api_key = '   '"
   ]
  },
  {
   "cell_type": "code",
   "execution_count": 4,
   "metadata": {},
   "outputs": [],
   "source": [
    "# Completa con los dos puntos de la coordenada que te interesa consultar:\n",
    "long = '   '\n",
    "lat = '   '"
   ]
  },
  {
   "cell_type": "code",
   "execution_count": 5,
   "metadata": {},
   "outputs": [],
   "source": [
    "# Creamos un string, completando el endpoint con las credenciales de la API y las coordenadas (lat y long),\n",
    "jdata='https://apitransporte.buenosaires.gob.ar/transito/v1/estacionamientos?x='+long+'&y='+lat+'&radio=100&client_id='+api_user+'&client_secret='+api_key"
   ]
  },
  {
   "cell_type": "code",
   "execution_count": 6,
   "metadata": {},
   "outputs": [],
   "source": [
    "# pasamos el json a formato data frame y le asignamos el encoding utf-8:\n",
    "datajson=pd.read_json(jdata, encoding='utf-8')"
   ]
  },
  {
   "cell_type": "code",
   "execution_count": 7,
   "metadata": {},
   "outputs": [
    {
     "data": {
      "text/html": [
       "<div>\n",
       "<style scoped>\n",
       "    .dataframe tbody tr th:only-of-type {\n",
       "        vertical-align: middle;\n",
       "    }\n",
       "\n",
       "    .dataframe tbody tr th {\n",
       "        vertical-align: top;\n",
       "    }\n",
       "\n",
       "    .dataframe thead th {\n",
       "        text-align: right;\n",
       "    }\n",
       "</style>\n",
       "<table border=\"1\" class=\"dataframe\">\n",
       "  <thead>\n",
       "    <tr style=\"text-align: right;\">\n",
       "      <th></th>\n",
       "      <th>totalFull</th>\n",
       "      <th>total</th>\n",
       "      <th>instancias</th>\n",
       "    </tr>\n",
       "  </thead>\n",
       "  <tbody>\n",
       "    <tr>\n",
       "      <th>0</th>\n",
       "      <td>2</td>\n",
       "      <td>2</td>\n",
       "      <td>{'distancia': '4.05', 'contenido': '', 'claseI...</td>\n",
       "    </tr>\n",
       "    <tr>\n",
       "      <th>1</th>\n",
       "      <td>2</td>\n",
       "      <td>2</td>\n",
       "      <td>{'distancia': '6.36', 'contenido': '', 'claseI...</td>\n",
       "    </tr>\n",
       "  </tbody>\n",
       "</table>\n",
       "</div>"
      ],
      "text/plain": [
       "   totalFull  total                                         instancias\n",
       "0          2      2  {'distancia': '4.05', 'contenido': '', 'claseI...\n",
       "1          2      2  {'distancia': '6.36', 'contenido': '', 'claseI..."
      ]
     },
     "execution_count": 7,
     "metadata": {},
     "output_type": "execute_result"
    }
   ],
   "source": [
    "# vemos que es lo que trajo la API:\n",
    "datajson"
   ]
  },
  {
   "cell_type": "code",
   "execution_count": 10,
   "metadata": {},
   "outputs": [],
   "source": [
    "# iteramos por cada columna y pasamos cada valor a una celda:\n",
    "df = pd.concat([pd.DataFrame(json_normalize(x)) for x in datajson['instancias']],ignore_index=True)"
   ]
  },
  {
   "cell_type": "code",
   "execution_count": 11,
   "metadata": {},
   "outputs": [
    {
     "data": {
      "text/html": [
       "<div>\n",
       "<style scoped>\n",
       "    .dataframe tbody tr th:only-of-type {\n",
       "        vertical-align: middle;\n",
       "    }\n",
       "\n",
       "    .dataframe tbody tr th {\n",
       "        vertical-align: top;\n",
       "    }\n",
       "\n",
       "    .dataframe thead th {\n",
       "        text-align: right;\n",
       "    }\n",
       "</style>\n",
       "<table border=\"1\" class=\"dataframe\">\n",
       "  <thead>\n",
       "    <tr style=\"text-align: right;\">\n",
       "      <th></th>\n",
       "      <th>clase</th>\n",
       "      <th>claseId</th>\n",
       "      <th>contenido</th>\n",
       "      <th>distancia</th>\n",
       "      <th>id</th>\n",
       "      <th>nombre</th>\n",
       "    </tr>\n",
       "  </thead>\n",
       "  <tbody>\n",
       "    <tr>\n",
       "      <th>0</th>\n",
       "      <td>EstacionamientoEnViaPublica</td>\n",
       "      <td>estacionamiento_en_via_publica|1</td>\n",
       "      <td></td>\n",
       "      <td>4.05</td>\n",
       "      <td>estacionamiento_en_via_publica|25735</td>\n",
       "      <td>Permitido estacionar 24 horas lado derecho (im...</td>\n",
       "    </tr>\n",
       "    <tr>\n",
       "      <th>1</th>\n",
       "      <td>EstacionamientoEnViaPublica</td>\n",
       "      <td>estacionamiento_en_via_publica|1</td>\n",
       "      <td></td>\n",
       "      <td>6.36</td>\n",
       "      <td>estacionamiento_en_via_publica|46588</td>\n",
       "      <td>Permitido estacionar 24 horas lado izquierdo (...</td>\n",
       "    </tr>\n",
       "  </tbody>\n",
       "</table>\n",
       "</div>"
      ],
      "text/plain": [
       "                         clase                           claseId contenido  \\\n",
       "0  EstacionamientoEnViaPublica  estacionamiento_en_via_publica|1             \n",
       "1  EstacionamientoEnViaPublica  estacionamiento_en_via_publica|1             \n",
       "\n",
       "  distancia                                    id  \\\n",
       "0      4.05  estacionamiento_en_via_publica|25735   \n",
       "1      6.36  estacionamiento_en_via_publica|46588   \n",
       "\n",
       "                                              nombre  \n",
       "0  Permitido estacionar 24 horas lado derecho (im...  \n",
       "1  Permitido estacionar 24 horas lado izquierdo (...  "
      ]
     },
     "execution_count": 11,
     "metadata": {},
     "output_type": "execute_result"
    }
   ],
   "source": [
    "# finalmente tenemos la información ordenada en un data frame\n",
    "df"
   ]
  }
 ],
 "metadata": {
  "kernelspec": {
   "display_name": "Python 3",
   "language": "python",
   "name": "python3"
  },
  "language_info": {
   "codemirror_mode": {
    "name": "ipython",
    "version": 3
   },
   "file_extension": ".py",
   "mimetype": "text/x-python",
   "name": "python",
   "nbconvert_exporter": "python",
   "pygments_lexer": "ipython3",
   "version": "3.7.3"
  }
 },
 "nbformat": 4,
 "nbformat_minor": 2
}
